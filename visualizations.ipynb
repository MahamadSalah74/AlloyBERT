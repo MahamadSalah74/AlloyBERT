{
 "cells": [
  {
   "cell_type": "code",
   "execution_count": 1,
   "id": "9e20d743-f4c9-411f-9680-0775a8f161bd",
   "metadata": {},
   "outputs": [
    {
     "name": "stderr",
     "output_type": "stream",
     "text": [
      "2022-08-03 13:31:43.768573: I tensorflow/core/util/util.cc:169] oneDNN custom operations are on. You may see slightly different numerical results due to floating-point round-off errors from different computation orders. To turn them off, set the environment variable `TF_ENABLE_ONEDNN_OPTS=0`.\n"
     ]
    }
   ],
   "source": [
    "#import required libraries\n",
    "import torch\n",
    "import pandas as pd\n",
    "import umap.umap_ as umap\n",
    "from sklearn.decomposition import PCA\n",
    "from transformers import AutoTokenizer\n",
    "import matplotlib.pyplot as plt, numpy as np\n",
    "from transformers import AutoModelForMaskedLM\n",
    "from sklearn.preprocessing import OrdinalEncoder\n",
    "from sklearn.metrics import classification_report\n",
    "from sklearn.neighbors import KNeighborsClassifier\n",
    "from sklearn.model_selection import train_test_split"
   ]
  },
  {
   "cell_type": "code",
   "execution_count": 2,
   "id": "4d2407e4-c992-49f5-92d0-e6a1b8a29d3e",
   "metadata": {},
   "outputs": [],
   "source": [
    "tokenizer = AutoTokenizer.from_pretrained(\"Tokenizers/fine_tuned_bert_tokenizer_small/alloy-data-tokenizer\")\n",
    "model = AutoModelForMaskedLM.from_pretrained(\"temp_model/checkpoint-90000\", output_hidden_states = True)"
   ]
  },
  {
   "cell_type": "code",
   "execution_count": 3,
   "id": "d548e24c-640d-45f8-aaf2-651e99e3efe2",
   "metadata": {},
   "outputs": [],
   "source": [
    "#a helper function that takes a list of material forumals and return token and segment tensors to be used for BERT model to get embeddings\n",
    "def prepare_tokens(materials):\n",
    "    \n",
    "    tokens_tensors = []\n",
    "    segments_tensors = []\n",
    "    \n",
    "    for material in materials:\n",
    "        \n",
    "        material = \"[CLS] \" + material + \" [SEP]\"\n",
    "        tokenized_text = tokenizer.tokenize(material)\n",
    "        indexed_tokens = tokenizer.convert_tokens_to_ids(tokenized_text)\n",
    "        segments_ids = [1] * len(tokenized_text)\n",
    "        tokens_tensor = torch.tensor([indexed_tokens])\n",
    "        segments_tensor = torch.tensor([segments_ids])\n",
    "        \n",
    "        tokens_tensors.append(tokens_tensor)\n",
    "        segments_tensors.append(segments_tensor)\n",
    "        \n",
    "    return tokens_tensors, segments_tensors\n",
    "\n",
    "#a helper function that takes a list of token tensors and another list of segment tensors and returns BERT embeddings for all materials\n",
    "def get_embeddings(tokens_tensors, segments_tensors):\n",
    "    all_embeddings = []\n",
    "    for i in range(len(tokens_tensors)):\n",
    "        outputs = model(tokens_tensors[i], segments_tensors[i])\n",
    "        hidden_states = outputs[1]\n",
    "        token_vecs = hidden_states[-2][0]\n",
    "        sentence_embedding = torch.mean(token_vecs, dim=0)\n",
    "        sentence_embedding =sentence_embedding.detach().numpy()\n",
    "        all_embeddings.append(sentence_embedding)\n",
    "    return all_embeddings\n",
    "\n",
    "#a helper function to read the alloys data\n",
    "def get_data(path):\n",
    "    \n",
    "    data = pd.read_csv(path)\n",
    "    alloys_x = list(data['Alloy'])\n",
    "    alloys_y = list(data['Phase'])\n",
    "    print('There is a total of {} materials, of which {} are BCC, {} are FCC, {} are HCP, and {} are multi-phase'.format(len(data), alloys_y.count('bcc'), alloys_y.count('fcc'), alloys_y.count('hcp'), alloys_y.count('multi-phase')))\n",
    "    \n",
    "    return alloys_x, alloys_y\n"
   ]
  },
  {
   "cell_type": "code",
   "execution_count": 4,
   "id": "27a5a2a8-877a-4603-aec5-63d5b02910a1",
   "metadata": {},
   "outputs": [],
   "source": [
    "fcc_materials = [\"VCrMnFeCo\", \"VCrMnFeNi\", \"VCrMnFeCu\", \"VCrMnCoNi\", \"VCrMnCoCu\", \"VCrMnNiCu\", \"VCrFeCoNi\", \"VCrFeCoCu\", \"VCrFeNiCu\", \"VCrCoNiCu\", \"VMnFeCoNi\", \"VMnFeCoCu\", \"vMnFeNiCu\", \"VMnCoNiCu\", \"VFeCoNiCu\", \"CrMnFeCoNi\", \"CrMnFeCoCu\", \"CrMnFeNiCu\", \"CrMnCoNiCu\", \"CrFeCoNiCu\", \"MnFeCoNiCu\"]\n",
    "bcc_materials = [\"TiZrNbMoHf\", \"TiZrNbMoTa\", \"TiZrNbMoW\", \"TiZrNbHfTa\", \"TiZrNbHfW\", \"TiZrNbTaW\", \"TiZrMoHfTa\", \"TiZrMoHfW\", \"TiZrMoTaW\", \"TiZrHfTaW\", \"TiNbMoHfTa\", \"TiNbMoHfW\", \"TiNbMoTaW\", \"TiNbHfTaW\", \"TiMoHfTaW\", \"ZrNbMoHfTa\", \"ZrNbMoHfW\", \"ZrNbMoTaW\", \"ZrNbHfTaW\", \"ZrMoHfTaW\", \"NbMoHfTaW\"]\n",
    "all_materials = fcc_materials + bcc_materials\n",
    "fcc_labels = [\"fcc\"]*len(fcc_materials)\n",
    "bcc_labels = [\"bcc\"]*len(bcc_materials)\n",
    "all_labels = fcc_labels + bcc_labels"
   ]
  },
  {
   "cell_type": "code",
   "execution_count": 5,
   "id": "1de4506a-94f1-48f1-a4a2-726027abbe09",
   "metadata": {},
   "outputs": [],
   "source": [
    "model.eval()\n",
    "tokens_tensors, segments_tensors = prepare_tokens(all_materials)\n",
    "all_embeddings = get_embeddings(tokens_tensors, segments_tensors)"
   ]
  },
  {
   "cell_type": "code",
   "execution_count": 6,
   "id": "7792e9c7-c7aa-4a72-b5f8-5cc9c0bdd5f6",
   "metadata": {},
   "outputs": [
    {
     "name": "stderr",
     "output_type": "stream",
     "text": [
      "/home/ml-art/.local/lib/python3.10/site-packages/umap/spectral.py:227: UserWarning: Embedding a total of 2 separate connected components using meta-embedding (experimental)\n",
      "  warn(\n"
     ]
    },
    {
     "data": {
      "image/png": "[encoded data removed]",
      "text/plain": [
       "<Figure size 576x576 with 1 Axes>"
      ]
     },
     "metadata": {
      "needs_background": "light"
     },
     "output_type": "display_data"
    }
   ],
   "source": [
    "#using umap to reduce the embeddings dimensionality and plotting the results\n",
    "\n",
    "umap_embedding = umap.UMAP(n_neighbors=12,n_components=2, min_dist=0.5, random_state=72).fit_transform(all_embeddings)\n",
    "\n",
    "fig = plt.figure(figsize=(8, 8))\n",
    "\n",
    "for label in np.unique(all_labels):\n",
    "    indices = np.where(np.array(all_labels) == label)[0]\n",
    "    umap_embeddings_class = umap_embedding[indices]\n",
    "\n",
    "    plt.scatter(umap_embeddings_class[:,1], umap_embeddings_class[:,0],label=str(label))\n",
    "    plt.title('UMAP Embeddings for Alloys')\n",
    "    plt.legend()\n",
    "\n",
    "\n",
    "plt.show()"
   ]
  },
  {
   "cell_type": "code",
   "execution_count": null,
   "id": "ce665018-8746-4caa-813f-971a2600cf69",
   "metadata": {},
   "outputs": [
    {
     "name": "stdout",
     "output_type": "stream",
     "text": [
      "There is a total of 1252 materials, of which 261 are BCC, 218 are FCC, 146 are HCP, and 627 are multi-phase\n"
     ]
    }
   ],
   "source": [
    "#read the data and get the embeddings of all the materials\n",
    "model.eval()\n",
    "alloys_x, alloys_y = get_data(\"Alloys_Phases.csv\")\n",
    "tokens_tensors, segments_tensors = prepare_tokens(alloys_x)\n",
    "all_embeddings = get_embeddings(tokens_tensors, segments_tensors)"
   ]
  },
  {
   "cell_type": "code",
   "execution_count": null,
   "id": "ef8bd3e8-9d45-481e-bc88-e57012d08bff",
   "metadata": {
    "tags": []
   },
   "outputs": [],
   "source": [
    "#using umap to reduce the embeddings dimensionality and plotting the results\n",
    "\n",
    "umap_embedding = umap.UMAP(n_neighbors=12,n_components=2, min_dist=0.5, random_state=72).fit_transform(all_embeddings)\n",
    "\n",
    "fig = plt.figure(figsize=(8, 8))\n",
    "\n",
    "for label in np.unique(alloys_y):\n",
    "    indices = np.where(np.array(alloys_y) == label)[0]\n",
    "    umap_embeddings_class = umap_embedding[indices]\n",
    "\n",
    "    plt.scatter(umap_embeddings_class[:,1], umap_embeddings_class[:,0],label=str(label))\n",
    "    plt.title('UMAP Embeddings for Alloys')\n",
    "    plt.legend()\n",
    "\n",
    "\n",
    "plt.show()"
   ]
  },
  {
   "cell_type": "code",
   "execution_count": 84,
   "id": "aa4e7db9-47a1-4de8-a427-2959143e5437",
   "metadata": {},
   "outputs": [
    {
     "name": "stdout",
     "output_type": "stream",
     "text": [
      "(1252,)\n"
     ]
    }
   ],
   "source": [
    "#changing the alloys labels from strings to integers\n",
    "ord_enc = OrdinalEncoder()\n",
    "alloys_y_num = ord_enc.fit_transform(np.asarray(alloys_y).reshape(-1, 1))\n",
    "alloys_y_num = np.squeeze(alloys_y_num)\n",
    "\n",
    "#splitting the dataset into training and testing\n",
    "x_train, x_test, y_train, y_test = train_test_split(umap_embedding, alloys_y_num, test_size=0.25)"
   ]
  },
  {
   "cell_type": "code",
   "execution_count": 105,
   "id": "51606b4d-05d9-41c1-ae47-0d037629c905",
   "metadata": {},
   "outputs": [],
   "source": []
  },
  {
   "cell_type": "code",
   "execution_count": 113,
   "id": "81621f4c-5d7a-491b-b291-a9d014bf1de4",
   "metadata": {},
   "outputs": [],
   "source": [
    "#building and training a KNN classifer\n",
    "KNN_model = KNeighborsClassifier(n_neighbors=3)\n",
    "KNN_model.fit(x_train, y_train)"
   ]
  },
  {
   "cell_type": "code",
   "execution_count": 127,
   "id": "b93168dd-1357-4cad-ae0d-2dce1c234a86",
   "metadata": {},
   "outputs": [
    {
     "name": "stdout",
     "output_type": "stream",
     "text": [
      "              precision    recall  f1-score   support\n",
      "\n",
      "         0.0       0.65      0.57      0.61        65\n",
      "         1.0       0.54      0.71      0.61        42\n",
      "         2.0       0.50      0.47      0.49        38\n",
      "         3.0       0.98      0.96      0.97       168\n",
      "\n",
      "    accuracy                           0.79       313\n",
      "   macro avg       0.67      0.68      0.67       313\n",
      "weighted avg       0.79      0.79      0.79       313\n",
      "\n"
     ]
    }
   ],
   "source": [
    "#using the trained model to predict the crystal structue of alloys in the test set and prinintg the classification report\n",
    "KNN_prediction = KNN_model.predict(x_test)\n",
    "print(classification_report(KNN_prediction, y_test))"
   ]
  }
 ],
 "metadata": {
  "kernelspec": {
   "display_name": "Python 3 (ipykernel)",
   "language": "python",
   "name": "python3"
  },
  "language_info": {
   "codemirror_mode": {
    "name": "ipython",
    "version": 3
   },
   "file_extension": ".py",
   "mimetype": "text/x-python",
   "name": "python",
   "nbconvert_exporter": "python",
   "pygments_lexer": "ipython3",
   "version": "3.10.4"
  }
 },
 "nbformat": 4,
 "nbformat_minor": 5
}
